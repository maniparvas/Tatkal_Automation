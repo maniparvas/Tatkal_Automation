{
 "cells": [
  {
   "cell_type": "code",
   "execution_count": 1,
   "id": "c002735e-2ade-4b85-b99c-01f0a137e81d",
   "metadata": {},
   "outputs": [],
   "source": [
    "from selenium import webdriver\n",
    "from selenium.webdriver.chrome.service import Service\n",
    "from selenium.webdriver.common.keys import Keys\n",
    "import time\n",
    "import requests\n",
    "import base64\n",
    "from PIL import Image\n",
    "import pytesseract"
   ]
  },
  {
   "cell_type": "code",
   "execution_count": 2,
   "id": "625cce1a-7690-4a5a-9810-b90bc0f25f20",
   "metadata": {},
   "outputs": [],
   "source": [
    "from PIL import Image, ImageEnhance, ImageFilter"
   ]
  },
  {
   "cell_type": "code",
   "execution_count": 5,
   "id": "ef6bc325-e8af-4658-b950-aefd37f7607a",
   "metadata": {},
   "outputs": [],
   "source": [
    "import sys"
   ]
  },
  {
   "cell_type": "code",
   "execution_count": 7,
   "id": "31b259f8-69d4-4b80-8883-adb7af6aa9f4",
   "metadata": {},
   "outputs": [],
   "source": [
    "import pytesseract\n",
    "\n",
    "# Specify the path to the tesseract executable\n",
    "pytesseract.pytesseract.tesseract_cmd = \"tesseract-ocr-w64-setup-5.4.0.20240606.exe\""
   ]
  },
  {
   "cell_type": "code",
   "execution_count": 9,
   "id": "26b9640e-31a8-4ba5-b998-9499c2f39468",
   "metadata": {},
   "outputs": [],
   "source": [
    "from selenium.webdriver.common.by import By\n",
    "from selenium.webdriver.support.ui import WebDriverWait\n",
    "from selenium.webdriver.support import expected_conditions as EC\n",
    "from selenium.common.exceptions import TimeoutException"
   ]
  },
  {
   "cell_type": "code",
   "execution_count": 11,
   "id": "a3f21dea-239b-4f70-a77e-5d4a8d7e1985",
   "metadata": {},
   "outputs": [],
   "source": [
    "from datetime import datetime, timedelta\n",
    "today = datetime.today()\n",
    "tomorrow = today + timedelta(days=1)\n",
    "tomorrow_date = tomorrow.strftime(\"%d/%m/%Y\")"
   ]
  },
  {
   "cell_type": "code",
   "execution_count": 13,
   "id": "124bd67b-93d1-4a59-9300-5347c75bc4d9",
   "metadata": {},
   "outputs": [
    {
     "data": {
      "text/plain": [
       "datetime.datetime(2025, 8, 20, 11, 1, 48, 106719)"
      ]
     },
     "execution_count": 13,
     "metadata": {},
     "output_type": "execute_result"
    }
   ],
   "source": [
    "datetime.today()"
   ]
  },
  {
   "cell_type": "code",
   "execution_count": 15,
   "id": "d5c3270b-543d-4475-aca5-3aa938b97c5b",
   "metadata": {},
   "outputs": [],
   "source": [
    "import easyocr\n",
    "import matplotlib.pyplot as plt\n",
    "import cv2"
   ]
  },
  {
   "cell_type": "code",
   "execution_count": 16,
   "id": "5a6f48d7-7afa-4fa3-81ae-cb7533ede559",
   "metadata": {},
   "outputs": [],
   "source": [
    "options = webdriver.ChromeOptions()\n",
    "prefs = {\n",
    "    \"profile.default_content_setting_values.notifications\": 2  # 2 means block all notifications\n",
    "}\n",
    "options.add_experimental_option(\"prefs\", prefs)"
   ]
  },
  {
   "cell_type": "code",
   "execution_count": 17,
   "id": "a6b01891-4be5-4686-81bf-c49bbe9bda77",
   "metadata": {},
   "outputs": [],
   "source": [
    "s= Service(\"chromedriver.exe\") "
   ]
  },
  {
   "cell_type": "code",
   "execution_count": 18,
   "id": "dc6cb759-03b1-4ec6-908a-5901b22d0437",
   "metadata": {},
   "outputs": [],
   "source": [
    "family1={\"sour_dest\":{\"sour\": \"SMVB\",\"dest\": \"CCT\"},\n",
    "\"pass_det\":{1: {'n': 'tarun','a': 24,'g': 'M'},\n",
    "       2: {'n': 'parvas', 'a': 18, 'g': 'M'},\n",
    "       3: {'n': 'sudha', 'a': 45, 'g': 'F'},\n",
    "       4: {'n': 'shiva', 'a': 24, 'g': 'F'}}}"
   ]
  },
  {
   "cell_type": "code",
   "execution_count": null,
   "id": "b0b5752f-838b-41cc-858d-0f2c1a4bc4b3",
   "metadata": {},
   "outputs": [],
   "source": [
    "driver=webdriver.Chrome(service=s)\n",
    "#driver.maximize_window()\n",
    "driver.implicitly_wait(10)\n",
    "driver.get(\"https://askdisha.irctc.co.in/\")\n",
    "driver.find_element(\"xpath\",\"\"\"/html/body/div/div/div[1]/div/div[1]/div[1]/img[1]\"\"\").click()\n",
    "time.sleep(1)\n",
    "driver.find_element(\"xpath\",\"\"\"/html/body/div/div/div[2]/div[3]/div/div[1]/div[2]/div/button\"\"\").click()\n",
    "driver.find_element(\"xpath\",\"\"\"/html/body/div/div/div[2]/div[4]/div/div[1]/div[2]/div/div/div[2]/input\"\"\").send_keys('9381564899')\n",
    "driver.find_element(\"xpath\",\"\"\"/html/body/div/div/div[2]/div[4]/div/div[2]/button\"\"\").click()\n",
    "otp=str(input(\"enter otp\"))\n",
    "driver.find_element(\"xpath\",\"\"\"/html/body/div/div/div[2]/div[4]/div/div[1]/div[2]/div/div[2]/div[2]/input\"\"\").send_keys(otp)"
   ]
  },
  {
   "cell_type": "code",
   "execution_count": 29,
   "id": "c36e1d54-25ef-4095-8001-47555c9a25a1",
   "metadata": {},
   "outputs": [],
   "source": [
    "stacfun=dict()\n",
    "id=0\n",
    "\n",
    "def exceptionhandlefun():\n",
    "    global id\n",
    "    prevfun=stacfun[id-1]\n",
    "    print(\"-----\",prevfun)\n",
    "    if (\"clickfun\" in stacfun[prevfun].keys()):\n",
    "        xpath=prevfun[prevfun].get('clickfun')\n",
    "        clickfun(xpath)\n",
    "    if (\"sendkeyfun\" in stacfun[prevfun].keys()):\n",
    "        xpath=prevfun[prevfun].get('sendkeyfun')[0]\n",
    "        keys=prevfun[prevfun].get('sendkeyfun')[1]\n",
    "        sendkeyfun(xpath,keys)\n",
    "        \n",
    "def clickfun(xpath):\n",
    "    global id\n",
    "    id+=1\n",
    "    try:\n",
    "        button = WebDriverWait(driver, 20).until(\n",
    "        EC.element_to_be_clickable((By.XPATH, xpath)))\n",
    "        button.click()\n",
    "    except TimeoutException:\n",
    "        print(\"excetion occured , trying again\")\n",
    "        print(xpath)\n",
    "        exceptionhandlefun()\n",
    "        # clickfun(xpath)\n",
    "    dict1=dict()\n",
    "    dict1[\"clickfun\"]=xpath\n",
    "    stacfun[id]=dict1\n",
    "        \n",
    "def sendkeyfun(xpath,keys):\n",
    "    global id\n",
    "    id+=1\n",
    "    try:\n",
    "        button = WebDriverWait(driver, 20).until(\n",
    "        EC.element_to_be_clickable((By.XPATH, xpath)))\n",
    "        button.send_keys(keys)\n",
    "    except TimeoutException:\n",
    "        print(\"send key excetion occured , trying again\")\n",
    "        print(xpath)\n",
    "        exceptionhandlefun()\n",
    "        # sendkeyfun(xpath,keys)     \n",
    "    dict1=dict()\n",
    "    dict1[\"sendkeyfun\"]=(xpath,keys)\n",
    "    stacfun[id]=dict1\n",
    "def clearfun(xpath):\n",
    "    button = WebDriverWait(driver, 15).until(\n",
    "    EC.element_to_be_clickable((By.XPATH, xpath)))\n",
    "    button.clear()\n",
    "    "
   ]
  },
  {
   "cell_type": "code",
   "execution_count": 31,
   "id": "028d5810-0307-4e36-9ede-62b259b64d51",
   "metadata": {},
   "outputs": [],
   "source": [
    "train=\"17209\""
   ]
  },
  {
   "cell_type": "code",
   "execution_count": 33,
   "id": "1469a8b9-dc75-4621-8e05-c5d5ab2a8e02",
   "metadata": {},
   "outputs": [
    {
     "name": "stdout",
     "output_type": "stream",
     "text": [
      "type of booking:\n",
      " 1: SL\n",
      " 2: 3AC\n",
      " 3: 2AC\n",
      " 4: 1AC\n"
     ]
    },
    {
     "name": "stdin",
     "output_type": "stream",
     "text": [
      "select type:  1\n"
     ]
    }
   ],
   "source": [
    "print(\"type of booking:\\n 1: SL\\n 2: 3AC\\n 3: 2AC\\n 4: 1AC\")\n",
    "types=int(input(\"select type: \"))"
   ]
  },
  {
   "cell_type": "code",
   "execution_count": null,
   "id": "a8b82ad1-bebd-4ff6-a3af-6a148b7a9266",
   "metadata": {},
   "outputs": [],
   "source": [
    "clickfun(\"\"\"/html/body/div/div/div[2]/div[1]/div/div[2]/div/div[1]/div[1]/div\"\"\")\n",
    "sendkeyfun(\"\"\"/html/body/div/div/div[2]/div[3]/div/div[1]/div[1]/div/div/input\"\"\",family1[\"sour_dest\"][\"sour\"])\n",
    "clickfun(\"\"\"/html/body/div/div/div[2]/div[3]/div/div[1]/div[2]/div/div[2]/div[1]/div\"\"\")\n",
    "clickfun(\"\"\"/html/body/div/div/div[2]/div[1]/div/div[2]/div/div[1]/div[3]/div\"\"\")\n",
    "sendkeyfun(\"\"\"/html/body/div/div/div[2]/div[3]/div/div[1]/div[1]/div/div/input\"\"\",family1[\"sour_dest\"][\"dest\"])\n",
    "clickfun(\"\"\"/html/body/div/div/div[2]/div[3]/div/div[1]/div[2]/div/div[2]/div[1]/div\"\"\")\n",
    "clickfun(\"\"\"/html/body/div/div/div[2]/div[1]/div/div[2]/div/div[2]/div[1]\"\"\")\n",
    "# here\n",
    "clickdate()\n",
    "# clickfun(\"\"\"/html/body/div/div/div[2]/div[3]/div/div[1]/div[2]/div/div[2]/section[1]/ul[2]/li[17]\"\"\")\n",
    "clickfun(\"\"\"/html/body/div/div/div[2]/div[1]/div/div[2]/div/div[2]/div[2]\"\"\")\n",
    "clickfun(\"\"\"/html/body/div/div/div[2]/div[3]/div/div[1]/div[2]/div/div[7]\"\"\")\n",
    "clickfun(\"\"\"/html/body/div/div/div[2]/div[1]/div/div[2]/div/button\"\"\")\n",
    "sendkeyfun(\"\"\"/html/body/div/div/div[2]/div/div[2]/div[3]/input\"\"\",train)\n",
    "clickfun(\"\"\"/html/body/div/div/div[2]/div/div[3]/div/div[5]/div[2]/div\"\"\")\n",
    "# here\n",
    "if types==1:\n",
    "    clickfun(\"\"\"/html/body/div/div/div[2]/div[2]/div/div[1]/div[2]/div/div[6]/div[1]\"\"\")\n",
    "elif types==2:\n",
    "    clickfun(\"\"\"/html/body/div/div/div[2]/div[2]/div/div[1]/div[2]/div/div[6]/div[2]\"\"\")\n",
    "elif types==3:\n",
    "    clickfun(\"\"\"/html/body/div/div/div[2]/div[2]/div/div[1]/div[2]/div/div[6]/div[3]\"\"\")\n",
    "elif types==4:\n",
    "    clickfun(\"\"\"/html/body/div/div/div[2]/div[2]/div/div[1]/div[2]/div/div[6]/div[4]\"\"\")\n",
    "\n",
    "if driver.find_element(\"xpath\",\"\"\"/html/body/div/div/div[2]/div[2]/div/div[1]/div[2]/div/div[8]/div/p\"\"\").text ==\"NOT AVAILABLE\":\n",
    "    print(\"no tickets available\")\n",
    "    clickfun(\"\"\"/html/body/div/div/div[1]/div/div[1]/div[1]/img[2]\"\"\")\n",
    "    clickfun(\"\"\"/html/body/div/div/div[2]/div[3]/div/div/button[2]\"\"\")\n",
    "    sys.exit()\n",
    "# if (len(driver.find_element(\"xpath\",\"\"\"/html/body/div/div/div[2]/div[2]/div/div[1]/div[2]/div/div[2]/div[1]/p\"\"\"))!=0):\n",
    "# clickfun(\"\"\"/html/body/div/div/div[2]/div[2]/div/div[2]/div/button[2]\"\"\")\n",
    "# else:\n",
    "clickfun(\"\"\"/html/body/div/div/div[2]/div[2]/div/div[2]/div/button\"\"\")\n",
    "\n",
    "# if (len(driver.find_element(\"xpath\",\"\"\"/html/body/div/div/div[2]/div[2]/div/div[1]/div[2]/div/div[2]/div[1]/p\"\"\"))!=0):\n",
    "#         clickfun(\"\"\"/html/body/div/div/div[2]/div[2]/div/div[2]/div/button[2]\"\"\")\n",
    "\n",
    "clearfun(\"\"\"/html/body/div/div/div[2]/div[2]/div/div[3]/div/div[2]/div/div[1]/input\"\"\")\n",
    "\n",
    "sendkeyfun(\"\"\"/html/body/div/div/div[2]/div[2]/div/div[3]/div/div[2]/div/div[1]/input\"\"\",\"parvassamrat\")\n",
    "clickfun(\"\"\"/html/body/div/div/div[2]/div[2]/div/div[3]/div/div[2]/div/button\"\"\")\n",
    "\n",
    "\n",
    "for i in family1[\"pass_det\"]:\n",
    "    time.sleep(2)\n",
    "    clickfun(\"\"\"/html/body/div/div/div[2]/div[2]/div/div[3]/div/div[2]/div/button\"\"\")\n",
    "    sendkeyfun(\"\"\"/html/body/div/div/div[2]/div[4]/div/div[1]/div[2]/div/div[1]/div/input\"\"\",family1[\"pass_det\"][i][\"n\"])\n",
    "    sendkeyfun(\"\"\"/html/body/div/div/div[2]/div[4]/div/div[1]/div[2]/div/div[3]/div/div/input\"\"\",family1[\"pass_det\"][i][\"a\"])\n",
    "    if family1[\"pass_det\"][i][\"g\"]==\"M\":\n",
    "        clickfun(\"\"\"/html/body/div/div/div[2]/div[4]/div/div[1]/div[2]/div/div[4]/div[2]/div[1]/div\"\"\")\n",
    "    else:\n",
    "        clickfun(\"\"\"/html/body/div/div/div[2]/div[4]/div/div[1]/div[2]/div/div[4]/div[2]/div[2]/div\"\"\")\n",
    "    # clickfun(\"\"\"/html/body/div/div/div[2]/div[4]/div/div[1]/div[2]/div/div[6]/div[5]/div[2]/div\"\"\")\n",
    "    clickfun(\"\"\"/html/body/div/div/div[2]/div[4]/div/div[2]/button\"\"\")\n",
    "clickfun(\"\"\"/html/body/div/div/div[2]/div[3]/button[2]\"\"\")\n",
    "clickfun(\"\"\"/html/body/div/div/div[2]/div[3]/button[2]\"\"\")\n",
    "\n",
    "clickfun(\"\"\"/html/body/div/div/div[2]/div[4]/div/div[2]/div/button[2]\"\"\")\n",
    "\n",
    "otp=str(input())\n",
    "sendkeyfun(\"\"\"/html/body/div/div/div[2]/div[4]/div/div[1]/div[2]/div/div[2]/div[1]/input\"\"\",otp)\n",
    "\n",
    "clickfun(\"\"\"/html/body/div/div/div[2]/div[4]/div/div[2]/div/button\"\"\")\n",
    "clickfun(\"\"\"/html/body/div/div/div[2]/div[4]/div/div[2]/button\"\"\")\n",
    "\n",
    "\n",
    "captrue=1\n",
    "while(captrue):\n",
    "    image=driver.find_element(\"xpath\",\"\"\"/html/body/div/div/div[2]/div[4]/div/div[1]/div[2]/div/img\"\"\")\n",
    "    image_url = image.get_attribute(\"src\")\n",
    "    if image_url.startswith(\"data:image\"):\n",
    "        # Split the Data URL into its header and the Base64 data\n",
    "        header, base64_data = image_url.split(',', 1)\n",
    "        # Decode the Base64 data\n",
    "        \n",
    "        image_data = base64.b64decode(base64_data)\n",
    "        # image_data.show()\n",
    "        # Save the image\n",
    "        with open(\"captcha_image.png\", \"wb\") as f:\n",
    "            f.write(image_data)\n",
    "    \n",
    "    # image = Image.open(\"captcha_image.png\")\n",
    "\n",
    "# # Convert to grayscale\n",
    "#     image = image.convert(\"L\")\n",
    "\n",
    "# # Increase contrast\n",
    "#     enhancer = ImageEnhance.Contrast(image)\n",
    "#     image = enhancer.enhance(2)\n",
    "\n",
    "# # Apply a sharpness filter\n",
    "#     image = image.filter(ImageFilter.SHARPEN)\n",
    "\n",
    "# # Save preprocessed image\n",
    "#     image.save(\"preproces_captcha.png\")\n",
    "#     files = {'filename': open('preproces_captcha.png', 'rb')}\n",
    "#     payload = {'apikey': api_key}\n",
    "\n",
    "#     response = requests.post(url, files=files, data=payload)\n",
    "#     result = response.json()\n",
    "\n",
    "#     recognized_text = result['ParsedResults'][0]['ParsedText'].strip().replace(\" \", \"\")\n",
    "    \n",
    "#     print(\"Detected texts:\", recognized_text)\n",
    "#     time.sleep(1)\n",
    "#     if len(recognized_text)==0:\n",
    "#         recognized_text=\"2021\"\n",
    "#     sendkeyfun(\"\"\"/html/body/div/div/div[2]/div[4]/div/div[1]/div[2]/div/div/input\"\"\",recognized_text)\n",
    "#     time.sleep(1)\n",
    "    \n",
    "#     clickfun(\"\"\"/html/body/div/div/div[2]/div[4]/div/div[2]/button\"\"\")\n",
    "#     time.sleep(1)\n",
    "#     if(len(driver.find_elements(\"xpath\",\"\"\"/html/body/div/div/div[2]/div[4]/div/div[1]/div[2]/div/p\"\"\"))==0):\n",
    "#         captrue=0    \n",
    "    \n",
    "    reader = easyocr.Reader(['en'])  # Specify languages as needed  \n",
    "    # Load the image\n",
    "    image_path = \"captcha_image.png\"\n",
    "    image = cv2.imread(image_path)  \n",
    "    # Perform OCR\n",
    "    results = reader.readtext(image)\n",
    "    detected = [text for (_, text, _) in results]\n",
    "    det_text = [text.replace(\" \", \"\") for text in detected]\n",
    "    # Display results\n",
    "    print(\"Detected texts:\", det_text)\n",
    "    time.sleep(1)\n",
    "    if len(det_text)==0:\n",
    "        det_text=\"2021\"\n",
    "    sendkeyfun(\"\"\"/html/body/div/div/div[2]/div[4]/div/div[1]/div[2]/div/div/input\"\"\",det_text)\n",
    "    time.sleep(1)\n",
    "\n",
    "    clickfun(\"\"\"/html/body/div/div/div[2]/div[4]/div/div[2]/button\"\"\")\n",
    "    time.sleep(1)\n",
    "    if(len(driver.find_elements(\"xpath\",\"\"\"/html/body/div/div/div[2]/div[4]/div/div[1]/div[2]/div/p\"\"\"))==0):\n",
    "        captrue=0\n",
    "\n",
    "clickfun(\"\"\"/html/body/div/div/div[2]/div[4]/div[2]/div[2]/div/div/div[2]/div[3]/div[3]/div/div[3]/div[1]/div/label/div/div\"\"\")\n",
    "sendkeyfun(\"\"\"/html/body/div/div/div[2]/div[4]/div[2]/div[2]/div/div/div[2]/div[3]/div[3]/div/div[3]/div[1]/div[2]/div/div/div[2]/div[2]/div[2]/div/div/div[1]/input\"\"\",\"www.premtarun37@okicici\")\n",
    "clickfun(\"\"\"/html/body/div/div/div[2]/div[4]/div[2]/div[2]/div/div/div[2]/div[3]/div[3]/div/div[3]/div[1]/div[2]/div/div/div[2]/div[2]/div[2]/div/div/div[5]/button\"\"\")\n"
   ]
  },
  {
   "cell_type": "code",
   "execution_count": 35,
   "id": "22e7f1b5-f1d0-46d4-acbe-b3fae614a2ec",
   "metadata": {},
   "outputs": [],
   "source": [
    "def clickdate():\n",
    "    # Get today's date\n",
    "    today = datetime.today()\n",
    "    \n",
    "    # Calculate the index by adding 6 to today's day of the month\n",
    "    index = today.day + 6\n",
    "    # Construct the XPath with the dynamic index\n",
    "    xpath = f\"\"\"/html/body/div/div/div[2]/div[3]/div/div[1]/div[2]/div/div[2]/section[1]/ul[2]/li[{index}]\"\"\"\n",
    "    \n",
    "    # Simulate clicking the element (assuming driver is your WebDriver object)\n",
    "    clickfun(xpath)"
   ]
  },
  {
   "cell_type": "code",
   "execution_count": 111,
   "id": "ebc9709a-1c4a-4c80-86fb-b5d4185ceea1",
   "metadata": {},
   "outputs": [],
   "source": [
    "clickfun(\"\"\"/html/body/div/div/div[2]/div[4]/div[2]/div[2]/div/div/div[2]/div[3]/div[3]/div/div[3]/div[1]/div/label/div/div\"\"\")"
   ]
  },
  {
   "cell_type": "code",
   "execution_count": 105,
   "id": "27d1b69a-d075-4ac4-aab8-af9feba4e895",
   "metadata": {},
   "outputs": [],
   "source": [
    "clickfun(\"\"\"/html/body/div/div/div[2]/div[4]/div[2]/div[2]/div/div/div[2]/div[3]/div[3]/div/div[3]/div[1]/div/label/div/div\"\"\")\n",
    "sendkeyfun(\"\"\"/html/body/div/div/div[2]/div[4]/div[2]/div[2]/div/div/div[2]/div[3]/div[3]/div/div[3]/div[1]/div[2]/div/div/div[2]/div[2]/div[2]/div/div/div[1]/input\"\"\",\"9381564899@axl\")\n",
    "clickfun(\"\"\"/html/body/div/div/div[2]/div[4]/div[2]/div[2]/div/div/div[2]/div[3]/div[3]/div/div[3]/div[1]/div[2]/div/div/div[2]/div[2]/div[2]/div/div/div[5]/button\"\"\")"
   ]
  },
  {
   "cell_type": "code",
   "execution_count": null,
   "id": "9fbc5511-8629-439f-bc16-fe9be2a9cb79",
   "metadata": {},
   "outputs": [],
   "source": []
  }
 ],
 "metadata": {
  "kernelspec": {
   "display_name": "Python 3 (ipykernel)",
   "language": "python",
   "name": "python3"
  },
  "language_info": {
   "codemirror_mode": {
    "name": "ipython",
    "version": 3
   },
   "file_extension": ".py",
   "mimetype": "text/x-python",
   "name": "python",
   "nbconvert_exporter": "python",
   "pygments_lexer": "ipython3",
   "version": "3.12.4"
  }
 },
 "nbformat": 4,
 "nbformat_minor": 5
}
